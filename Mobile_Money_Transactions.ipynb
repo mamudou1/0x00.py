{
  "nbformat": 4,
  "nbformat_minor": 0,
  "metadata": {
    "colab": {
      "provenance": [],
      "authorship_tag": "ABX9TyPEsabdDd0HoChRmKaAlU4s",
      "include_colab_link": true
    },
    "kernelspec": {
      "name": "python3",
      "display_name": "Python 3"
    },
    "language_info": {
      "name": "python"
    }
  },
  "cells": [
    {
      "cell_type": "markdown",
      "metadata": {
        "id": "view-in-github",
        "colab_type": "text"
      },
      "source": [
        "<a href=\"https://colab.research.google.com/github/mamudou1/0x00.py/blob/master/Mobile_Money_Transactions.ipynb\" target=\"_parent\"><img src=\"https://colab.research.google.com/assets/colab-badge.svg\" alt=\"Open In Colab\"/></a>"
      ]
    },
    {
      "cell_type": "code",
      "execution_count": 4,
      "metadata": {
        "colab": {
          "base_uri": "https://localhost:8080/"
        },
        "id": "0PXj6MtwAtIy",
        "outputId": "089b1150-1ac9-4b63-f6c5-1eac82054669"
      },
      "outputs": [
        {
          "output_type": "stream",
          "name": "stdout",
          "text": [
            "==== Net Cash Flow Calculation ====\n",
            "Enter the total number of mobile money transactions received: -7\n",
            "Invalid input. Please enter a positive number.\n",
            "Enter the total number of mobile money transactions received: 76\n",
            "Enter the total number of mobile money transactions sent: 65\n",
            "Enter the total amount received through mobile money transactions: 453\n",
            "Enter the total amount sent through mobile money transactions: 760\n",
            "Net cash flow for the day:  -307.0\n"
          ]
        }
      ],
      "source": [
        "def get_valid_input(prompt):\n",
        "    while True:\n",
        "        try:\n",
        "            value = float(input(prompt))\n",
        "            if value >= 0:\n",
        "                return value\n",
        "            else:\n",
        "                print(\"Invalid input. Please enter a positive number.\")\n",
        "        except ValueError:\n",
        "            print(\"Invalid input. Please enter a valid number.\")\n",
        "\n",
        "\n",
        "def calculate_net_cash_flow():\n",
        "    print(\"==== Net Cash Flow Calculation ====\")\n",
        "    transactions_received = get_valid_input(\"Enter the total number of mobile money transactions received: \")\n",
        "    transactions_sent = get_valid_input(\"Enter the total number of mobile money transactions sent: \")\n",
        "    amount_received = get_valid_input(\"Enter the total amount received through mobile money transactions: \")\n",
        "    amount_sent = get_valid_input(\"Enter the total amount sent through mobile money transactions: \")\n",
        "\n",
        "    net_cash_flow = amount_received - amount_sent\n",
        "    print(\"Net cash flow for the day: \", net_cash_flow)\n",
        "\n",
        "\n",
        "calculate_net_cash_flow()\n"
      ]
    }
  ]
}